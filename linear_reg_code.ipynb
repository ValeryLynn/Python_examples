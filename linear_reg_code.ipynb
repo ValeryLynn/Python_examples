{
 "cells": [
  {
   "cell_type": "code",
   "execution_count": null,
   "id": "33db0d76-29c3-4e5a-9c5e-615344168e49",
   "metadata": {},
   "outputs": [],
   "source": [
    "# Import packages\n",
    "from sklearn.preprocessing import scale\n",
    "from sklearn.model_selection import train_test_split\n",
    "from sklearn.linear_model import LinearRegression\n",
    "\n",
    "#Set up variables: X, y\n",
    "model_df= test_df.drop('target_var', axis = 1) # Replace 'target_var with your target variable name\n",
    "X = model_df.values\n",
    "y = model_df['target_var'].values"
   ]
  },
  {
   "cell_type": "code",
   "execution_count": null,
   "id": "c9190514-92dc-42ca-861e-467534a1641c",
   "metadata": {},
   "outputs": [],
   "source": [
    "# Scale the features\n",
    "X = scale(X)\n",
    "y = scale(y)"
   ]
  },
  {
   "cell_type": "code",
   "execution_count": null,
   "id": "e3362eaa-3d77-4652-aa7b-ecf83733a947",
   "metadata": {},
   "outputs": [],
   "source": [
    "def calculate_mape(y_pred, y_pred):\n",
    "    '''Calculates the Mean Absolute Percentage Error (MAPE).\n",
    "\n",
    "    input:\n",
    "        y_test (list or np.array): The actual values.\n",
    "        y_pred (list or np.array): The predicted values.\n",
    "\n",
    "    Returns:\n",
    "        float: The MAPE as a percentage. \n",
    "        \n",
    "    actual = np.array(y_test)\n",
    "    predicted = np.array(y_pred)\n",
    "\n",
    "    # For simplicity, this example assumes non-zero actual values.\n",
    "    # For zero actual values, MAPE is undefined or handled differently based on context.'''\n",
    "    \n",
    "    absolute_percentage_error = np.abs((y_test - y_pred) / y_test)\n",
    "    mape = np.mean(absolute_percentage_error) * 100\n",
    "    return mape"
   ]
  },
  {
   "cell_type": "markdown",
   "id": "4b4c289e-63d1-4372-b3d2-8d8b2e168162",
   "metadata": {},
   "source": [
    "# Linear regression - selected and scaled variables\n"
   ]
  },
  {
   "cell_type": "code",
   "execution_count": null,
   "id": "71b72db4-61d5-4d5d-8cb3-a690f5f64605",
   "metadata": {},
   "outputs": [],
   "source": [
    "\n",
    "# Create training and test sets\n",
    "X_train, X_test, y_train, y_test = train_test_split(X, y, test_size = 0.3, random_state=42)\n",
    "\n",
    "# Create the regressor: reg_all\n",
    "reg_all = LinearRegression()\n",
    "\n",
    "# Fit the regressor to the training data\n",
    "reg_all.fit(X_train, y_train)\n",
    "\n",
    "# Predict on the test data: y_pred\n",
    "y_pred = reg_all.predict(X_test)\n",
    "\n",
    "# Compute and print R^2\n",
    "print(\"R^2 training set: {}\".format(reg_all.score(X_train, y_train)))\n",
    "\n",
    "# Compute and print MAPE\n",
    "mape_result = calculate_mape(y_test, y_pred)\n",
    "print(f\"MAPE: {mape_result:.2f}%\")"
   ]
  },
  {
   "cell_type": "markdown",
   "id": "cfbd1726-d7f2-43cf-949a-3f9ab383e837",
   "metadata": {},
   "source": [
    "# Github example change"
   ]
  },
  {
   "cell_type": "code",
   "execution_count": null,
   "id": "d06008d3-bd15-4457-bfd4-2c7c106c57ce",
   "metadata": {},
   "outputs": [],
   "source": [
    "#words = words plus words"
   ]
  }
 ],
 "metadata": {
  "kernelspec": {
   "display_name": "Python 3 (ipykernel)",
   "language": "python",
   "name": "python3"
  },
  "language_info": {
   "codemirror_mode": {
    "name": "ipython",
    "version": 3
   },
   "file_extension": ".py",
   "mimetype": "text/x-python",
   "name": "python",
   "nbconvert_exporter": "python",
   "pygments_lexer": "ipython3",
   "version": "3.12.4"
  }
 },
 "nbformat": 4,
 "nbformat_minor": 5
}
