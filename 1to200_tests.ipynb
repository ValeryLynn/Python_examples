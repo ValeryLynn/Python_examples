{
 "cells": [
  {
   "cell_type": "markdown",
   "id": "8d6847c6-441b-4843-aedd-276e60df1943",
   "metadata": {},
   "source": [
    "# Sum the numbers from 1 to 200 with Python. BONUS: Do it in one line!"
   ]
  },
  {
   "cell_type": "code",
   "execution_count": 7,
   "id": "c479a125-06dc-4d51-9ad7-ee3c55d55565",
   "metadata": {},
   "outputs": [
    {
     "data": {
      "text/plain": [
       "'C:\\\\Users\\\\Yrelav\\\\Documents\\\\Personal\\\\Jobs\\\\Teaching\\\\SummerDiscovery\\\\Applied_DataScience_Python\\\\2025_Curriculum\\\\Week_2'"
      ]
     },
     "execution_count": 7,
     "metadata": {},
     "output_type": "execute_result"
    }
   ],
   "source": [
    "#Get directory path\n",
    "import os\n",
    "path = os.getcwd( )\n",
    "path"
   ]
  },
  {
   "cell_type": "code",
   "execution_count": 9,
   "id": "87ff2498-9adf-4547-a16b-94f58210a935",
   "metadata": {},
   "outputs": [
    {
     "data": {
      "text/plain": [
       "'C:\\\\Users\\\\Yrelav\\\\Documents\\\\Personal\\\\Jobs\\\\Teaching\\\\SummerDiscovery\\\\Applied_DataScience_Python\\\\2025_Curriculum\\\\Week_2'"
      ]
     },
     "execution_count": 9,
     "metadata": {},
     "output_type": "execute_result"
    }
   ],
   "source": [
    "os.chdir(r\"C:\\Users\\Yrelav\\Documents\\Personal\\Jobs\\Teaching\\SummerDiscovery\\Applied_DataScience_Python\\2025_Curriculum\\Week_2\")\n",
    "path = os.getcwd( )\n",
    "path"
   ]
  },
  {
   "cell_type": "markdown",
   "id": "f99ae4ca-2055-4b4b-b56d-0712629e3e5f",
   "metadata": {},
   "source": [
    "## Sum numbers from 1 to 200 with Python While Loop"
   ]
  },
  {
   "cell_type": "code",
   "execution_count": 12,
   "id": "0a0caacb-304f-4876-965e-316fd347c47a",
   "metadata": {},
   "outputs": [
    {
     "name": "stdout",
     "output_type": "stream",
     "text": [
      "20100\n"
     ]
    }
   ],
   "source": [
    "# Loop + 1 while variable j is <= 200\n",
    "j = 2\n",
    "sumd = 1\n",
    "while j <= 200:\n",
    "    sumd = sumd + j\n",
    "    # print(sumd)\n",
    "    j = j + 1   \n",
    "print(sumd)"
   ]
  },
  {
   "cell_type": "markdown",
   "id": "db426106-8a23-4af3-a0cf-c08ba224a7ab",
   "metadata": {},
   "source": [
    "## Sum numbers from 1 to 200 with Python list comprehensions\n",
    "### One-line solution achieved!"
   ]
  },
  {
   "cell_type": "code",
   "execution_count": 15,
   "id": "b9de8b6a-7671-4835-b6f3-92420f364a91",
   "metadata": {},
   "outputs": [
    {
     "data": {
      "text/plain": [
       "20100"
      ]
     },
     "execution_count": 15,
     "metadata": {},
     "output_type": "execute_result"
    }
   ],
   "source": [
    "# Clean code, easy to read\n",
    "sum_list = [i for i in range(201)] # This is a list comprehension\n",
    "summed_list = sum(sum_list)\n",
    "summed_list"
   ]
  },
  {
   "cell_type": "code",
   "execution_count": 17,
   "id": "128b5812-4206-4a78-9459-639dad959f30",
   "metadata": {},
   "outputs": [
    {
     "name": "stdout",
     "output_type": "stream",
     "text": [
      "20100\n"
     ]
    }
   ],
   "source": [
    "# One line, lacks readability but is pretty cool\n",
    "print(sum([i for i in range(201)]))"
   ]
  },
  {
   "cell_type": "code",
   "execution_count": 1,
   "id": "edb74ebd-33bc-47f7-a18a-1bfb5de4d394",
   "metadata": {},
   "outputs": [],
   "source": [
    "# Now that we've got a good solution, let's make a function\n",
    "def sum_range (upper_range):\n",
    "    sum_of_range = sum([i for i in range(upper_range)])\n",
    "    print(sum_of_range)\n",
    "    return sum_of_range"
   ]
  },
  {
   "cell_type": "code",
   "execution_count": 3,
   "id": "4763ccea-9295-48e5-957b-4c0f276b3eb4",
   "metadata": {},
   "outputs": [
    {
     "name": "stdout",
     "output_type": "stream",
     "text": [
      "20100\n"
     ]
    }
   ],
   "source": [
    "# Now you can call the function with any number as the upper range\n",
    "sum_of_range = sum_range(201)"
   ]
  },
  {
   "cell_type": "markdown",
   "id": "483b0bac-2cdd-447a-a0ab-25d67ad50714",
   "metadata": {},
   "source": [
    "### But how do we know that we put in the right upper range?\n"
   ]
  },
  {
   "cell_type": "code",
   "execution_count": 6,
   "id": "ead1a71f-0e8f-4db3-ba01-72a08fe9627d",
   "metadata": {},
   "outputs": [],
   "source": [
    "# Add a print statement in the function\n",
    "def sum_range (upper_range):\n",
    "    sum_of_range = sum([i for i in range(upper_range)])\n",
    "    print('Upper range = ', upper_range)\n",
    "    print('Sum = ', sum_of_range)\n",
    "    return sum_of_range"
   ]
  },
  {
   "cell_type": "code",
   "execution_count": 8,
   "id": "b4916bef-9e2b-46f6-a59f-5b5da8d3e025",
   "metadata": {},
   "outputs": [
    {
     "name": "stdout",
     "output_type": "stream",
     "text": [
      "Upper range =  201\n",
      "Sum =  20100\n"
     ]
    }
   ],
   "source": [
    "sum_of_range = sum_range(201)"
   ]
  },
  {
   "cell_type": "code",
   "execution_count": 10,
   "id": "af612abb-790c-4710-9528-035dd54c9c05",
   "metadata": {},
   "outputs": [
    {
     "name": "stdout",
     "output_type": "stream",
     "text": [
      "Upper range =  301\n",
      "Sum =  45150\n"
     ]
    }
   ],
   "source": [
    "sum_of_range = sum_range(301)"
   ]
  },
  {
   "cell_type": "code",
   "execution_count": null,
   "id": "95b4313a-3162-44d1-a5f9-5a3efe839476",
   "metadata": {},
   "outputs": [],
   "source": []
  }
 ],
 "metadata": {
  "kernelspec": {
   "display_name": "Python 3 (ipykernel)",
   "language": "python",
   "name": "python3"
  },
  "language_info": {
   "codemirror_mode": {
    "name": "ipython",
    "version": 3
   },
   "file_extension": ".py",
   "mimetype": "text/x-python",
   "name": "python",
   "nbconvert_exporter": "python",
   "pygments_lexer": "ipython3",
   "version": "3.12.4"
  }
 },
 "nbformat": 4,
 "nbformat_minor": 5
}
