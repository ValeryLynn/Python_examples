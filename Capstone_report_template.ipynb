{
 "cells": [
  {
   "cell_type": "code",
   "execution_count": 10,
   "id": "7b16c317-84aa-4b48-b69c-e437781a58b4",
   "metadata": {},
   "outputs": [
    {
     "name": "stdout",
     "output_type": "stream",
     "text": [
      "C:\\Users\\Yrelav\\Documents\\Capstone_project\n"
     ]
    }
   ],
   "source": [
    "#Get directory path\n",
    "import os\n",
    "print(os.getcwd( ))"
   ]
  },
  {
   "cell_type": "code",
   "execution_count": 11,
   "id": "6dbe6a80-f5d8-452b-8ce4-fc566af0974d",
   "metadata": {},
   "outputs": [
    {
     "data": {
      "text/plain": [
       "'C:\\\\Users\\\\Yrelav\\\\Documents\\\\Capstone_project'"
      ]
     },
     "execution_count": 11,
     "metadata": {},
     "output_type": "execute_result"
    }
   ],
   "source": [
    "os.chdir('C:\\\\Users\\\\Yrelav\\\\Documents\\\\Capstone_project')\n",
    "path = os.getcwd( )\n",
    "path"
   ]
  },
  {
   "cell_type": "markdown",
   "id": "e07495b6-9685-4cab-98c6-07a86c485bd7",
   "metadata": {},
   "source": [
    "# Your project title here\n",
    "\n",
    "Examples:\n",
    "1) Linear regression analysis of US storm data by state\n",
    "2) Classification of Iris species using petal and sepal width\n",
    "3) Regression Analysis of U.S. drug mortality rates by county.\n",
    "4) Identifying national patterns in race tweets using machine learning classification techniques"
   ]
  },
  {
   "cell_type": "markdown",
   "id": "c2fc6854-3073-43ea-ad25-e5b9be36c801",
   "metadata": {},
   "source": [
    "## Problem statement\n",
    "\n",
    "A few sentences why this is an important or interesting problem"
   ]
  },
  {
   "cell_type": "markdown",
   "id": "1a9ab37f-b4c4-458b-84f7-fa0db27d22fc",
   "metadata": {},
   "source": [
    "## Data\n",
    "\n",
    "A few sentences decribing your data (you might find something on the website where you got the data)\n",
    "    - Describe the forms available (CVS, URL download, API, etc.)\n",
    "    - Include the source URL\n",
    "    - Include why this data works well for this problem (Why did you choose it?)"
   ]
  },
  {
   "cell_type": "markdown",
   "id": "4b6590f1-cbfb-4c3b-b1e0-58b2ffb7d0e2",
   "metadata": {},
   "source": [
    "## Approach\n",
    "\n",
    "A few sentences describing your approach (linear regression, classification, etc.) \n",
    "\n",
    "Try to describe \"supervised learning models\" and why these work for your problem (THIS WILL CONTRIBUTE TO MASTERY)"
   ]
  },
  {
   "cell_type": "markdown",
   "id": "e10381a6-61b0-4cf7-a851-c59417212d1b",
   "metadata": {},
   "source": [
    "## Deliverables:\r\n",
    "1) \r\n",
    "Code: loading data, data cleaning, data visualization, exploratory data analysis, machine learning algorithms2) .\r\n",
    "Report on the proj:  READ ME in GitHubc3) t.\r\n",
    "Presenta: Technical interviewion."
   ]
  },
  {
   "cell_type": "markdown",
   "id": "8cba1c7a-2065-453f-9a09-8104aa81de5b",
   "metadata": {},
   "source": [
    "READ ME examples:\n",
    "\n",
    "https://github.com/ValeryLynn/National-Patterns-in-Race-Tweets\n"
   ]
  },
  {
   "cell_type": "markdown",
   "id": "b3cec30b-7537-4639-8f87-714a7be283e9",
   "metadata": {},
   "source": [
    "## Data import and cleaning"
   ]
  },
  {
   "cell_type": "code",
   "execution_count": null,
   "id": "cfb3030a-a82e-42b8-9d93-04ff4aae90ff",
   "metadata": {},
   "outputs": [],
   "source": [
    "# Import packages\n"
   ]
  },
  {
   "cell_type": "code",
   "execution_count": null,
   "id": "203138f0-8148-4ffb-acd7-cd442cb77fe4",
   "metadata": {},
   "outputs": [],
   "source": [
    "# Read data \n",
    "raw_data = \n",
    "\n",
    "print(raw_data.head())"
   ]
  },
  {
   "cell_type": "code",
   "execution_count": null,
   "id": "c709e259-5a05-4f98-b8aa-f4ec59643789",
   "metadata": {},
   "outputs": [],
   "source": [
    "# Get information about the data\n",
    "\n",
    "print('The shape of the data is:  ', raw_data.shape)\n",
    "print('Description of data:  ', raw_data.describe)\n",
    "print('The data columns in raw data set:  ', raw_data.columns)\n",
    "print('The data types are:  ', raw_data.dtypes)"
   ]
  },
  {
   "cell_type": "markdown",
   "id": "676321c6-ee02-45cf-b618-e2985a99f745",
   "metadata": {},
   "source": [
    "## EDA: Exploratory Data Analysis"
   ]
  },
  {
   "cell_type": "code",
   "execution_count": null,
   "id": "0cadd831-296e-4df3-8de5-2cf8f6d7b58d",
   "metadata": {},
   "outputs": [],
   "source": [
    "# Data visualization"
   ]
  },
  {
   "cell_type": "markdown",
   "id": "4849568a-6acc-40b5-b453-c7ad4687d8b0",
   "metadata": {},
   "source": [
    "## Approach to Analysis\n",
    "\n",
    "Describe your approach (classification, linear regression) - What will this approach tell us? How will it solve the problem statement? What are the limitations to the models?"
   ]
  },
  {
   "cell_type": "code",
   "execution_count": null,
   "id": "e429df60-2e24-4280-8bc2-7e059f0ff36f",
   "metadata": {},
   "outputs": [],
   "source": [
    "# Set up the data for the algorithm\n",
    "\n",
    "#Example:\n",
    "\n",
    "#train_test_split\n",
    "#Create numerical labels if needed\n"
   ]
  },
  {
   "cell_type": "markdown",
   "id": "39f718dc-6393-4d3b-8f65-efe40e5dd056",
   "metadata": {},
   "source": [
    "## Analysis"
   ]
  },
  {
   "cell_type": "code",
   "execution_count": null,
   "id": "85589670-faa4-40fd-aa82-65538588ccca",
   "metadata": {},
   "outputs": [],
   "source": [
    "# Test model 1\n",
    "\n",
    "# Print results"
   ]
  },
  {
   "cell_type": "code",
   "execution_count": null,
   "id": "a82e7ca1-867a-4165-9fa0-b023e38cf80b",
   "metadata": {},
   "outputs": [],
   "source": [
    "# Test model 2\n",
    "\n",
    "# Print results"
   ]
  },
  {
   "cell_type": "code",
   "execution_count": null,
   "id": "de3f85e2-c417-4a42-b435-d85bc8ec4571",
   "metadata": {},
   "outputs": [],
   "source": [
    "# Test model 3\n",
    "\n",
    "# Print results"
   ]
  },
  {
   "cell_type": "markdown",
   "id": "aef9509b-6cb4-42fc-9b64-a44bebf33061",
   "metadata": {},
   "source": [
    "## Conclusion\n",
    "\n",
    "What do your results tell you? Did any of your models work well? \n",
    "\n",
    "If not, propose a change that might be tested next. Talk about what your models DID tell you.\n",
    "\n",
    "If so, what does this mean? Is this a good start to building a solution that can help people? What can come next? What should people do with this information?"
   ]
  }
 ],
 "metadata": {
  "kernelspec": {
   "display_name": "Python 3 (ipykernel)",
   "language": "python",
   "name": "python3"
  },
  "language_info": {
   "codemirror_mode": {
    "name": "ipython",
    "version": 3
   },
   "file_extension": ".py",
   "mimetype": "text/x-python",
   "name": "python",
   "nbconvert_exporter": "python",
   "pygments_lexer": "ipython3",
   "version": "3.12.4"
  }
 },
 "nbformat": 4,
 "nbformat_minor": 5
}
